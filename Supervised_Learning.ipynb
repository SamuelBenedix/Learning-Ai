{
  "nbformat": 4,
  "nbformat_minor": 0,
  "metadata": {
    "colab": {
      "name": " Supervised Learning.ipynb",
      "provenance": [],
      "authorship_tag": "ABX9TyPGqCJ4l8b8by69N6Y3i9Xv",
      "include_colab_link": true
    },
    "kernelspec": {
      "name": "python3",
      "display_name": "Python 3"
    },
    "language_info": {
      "name": "python"
    }
  },
  "cells": [
    {
      "cell_type": "markdown",
      "metadata": {
        "id": "view-in-github",
        "colab_type": "text"
      },
      "source": [
        "<a href=\"https://colab.research.google.com/github/SamuelBenedix/jupyter-notebook/blob/main/Supervised_Learning.ipynb\" target=\"_parent\"><img src=\"https://colab.research.google.com/assets/colab-badge.svg\" alt=\"Open In Colab\"/></a>"
      ]
    },
    {
      "cell_type": "markdown",
      "metadata": {
        "id": "RD93W834iGXO"
      },
      "source": [
        "## **Supervised Learning -- Classification**\n",
        "\n",
        "Supervised Learning berguna untuk mengelompokan data berdasarkan kelas yang di deklarasikan. Kelas tersebut biasanya terdiri dari 2 kelas"
      ]
    },
    {
      "cell_type": "code",
      "metadata": {
        "id": "D8_qVd0rXb0-"
      },
      "source": [
        "%matplotlib inline\n",
        "import matplotlib.pyplot as plt\n",
        "import numpy as np\n",
        "from sklearn.datasets import make_blobs"
      ],
      "execution_count": 1,
      "outputs": []
    },
    {
      "cell_type": "code",
      "metadata": {
        "colab": {
          "base_uri": "https://localhost:8080/"
        },
        "id": "3Ixo3zhmXqpW",
        "outputId": "ee8e3f08-db8d-4d1a-a889-fa0537833f66"
      },
      "source": [
        "X, y = make_blobs(centers=2, random_state=0)\n",
        "print('X ~ Jumlah Sample x dan Jumlah Fitur:', X.shape)\n",
        "print('y ~ Jumlah Sample:', y.shape)"
      ],
      "execution_count": 2,
      "outputs": [
        {
          "output_type": "stream",
          "name": "stdout",
          "text": [
            "X ~ Jumlah Sample x dan Jumlah Fitur: (100, 2)\n",
            "y ~ Jumlah Sample: (100,)\n"
          ]
        }
      ]
    },
    {
      "cell_type": "code",
      "metadata": {
        "colab": {
          "base_uri": "https://localhost:8080/"
        },
        "id": "AwvBKdjgfSQ5",
        "outputId": "426aff96-579b-4469-cf66-68b9d8f0a5f8"
      },
      "source": [
        "print(X[0])"
      ],
      "execution_count": 3,
      "outputs": [
        {
          "output_type": "stream",
          "name": "stdout",
          "text": [
            "[4.21850347 2.23419161]\n"
          ]
        }
      ]
    },
    {
      "cell_type": "code",
      "metadata": {
        "colab": {
          "base_uri": "https://localhost:8080/"
        },
        "id": "qtFUNwO_fVpr",
        "outputId": "0022a5fc-ded6-480d-80a6-14563e2e9b7b"
      },
      "source": [
        "print(y[0])"
      ],
      "execution_count": 4,
      "outputs": [
        {
          "output_type": "stream",
          "name": "stdout",
          "text": [
            "1\n"
          ]
        }
      ]
    },
    {
      "cell_type": "code",
      "metadata": {
        "colab": {
          "base_uri": "https://localhost:8080/"
        },
        "id": "j5LmIRInXvct",
        "outputId": "bd7f9d3c-88fd-4946-e9cc-3f6ec423086c"
      },
      "source": [
        "print('5 Data Pertama:\\n', X[:5, :])"
      ],
      "execution_count": 5,
      "outputs": [
        {
          "output_type": "stream",
          "name": "stdout",
          "text": [
            "5 Data Pertama:\n",
            " [[ 4.21850347  2.23419161]\n",
            " [ 0.90779887  0.45984362]\n",
            " [-0.27652528  5.08127768]\n",
            " [ 0.08848433  2.32299086]\n",
            " [ 3.24329731  1.21460627]]\n"
          ]
        }
      ]
    },
    {
      "cell_type": "code",
      "metadata": {
        "colab": {
          "base_uri": "https://localhost:8080/"
        },
        "id": "0KNagbO1Xxid",
        "outputId": "2aaa32a2-1c9f-45b0-92de-2ed400ed0c33"
      },
      "source": [
        "print('5 Label Pertama:', y[:5])"
      ],
      "execution_count": 6,
      "outputs": [
        {
          "output_type": "stream",
          "name": "stdout",
          "text": [
            "5 Label Pertama: [1 1 0 0 1]\n"
          ]
        }
      ]
    },
    {
      "cell_type": "code",
      "metadata": {
        "colab": {
          "base_uri": "https://localhost:8080/",
          "height": 497
        },
        "id": "Wjj5b1aAYC4H",
        "outputId": "ff3d78d7-d58c-49a8-e17a-00d079505dab"
      },
      "source": [
        "plt.figure(figsize=(8, 8))\n",
        "plt.scatter(X[y == 0, 0], X[y == 0, 1], s=50, label='0')\n",
        "plt.scatter(X[y == 1, 0], X[y == 1, 1], s=50, label='1',\n",
        "            marker='+')\n",
        "\n",
        "plt.xlabel('Fitur Pertama')\n",
        "plt.ylabel('Fitur Kedua')\n",
        "plt.legend(loc='upper right');"
      ],
      "execution_count": 7,
      "outputs": [
        {
          "output_type": "display_data",
          "data": {
            "image/png": "[encoded data removed]",
            "text/plain": [
              "<Figure size 576x576 with 1 Axes>"
            ]
          },
          "metadata": {
            "needs_background": "light"
          }
        }
      ]
    },
    {
      "cell_type": "markdown",
      "metadata": {
        "id": "utJmZbyX9P2t"
      },
      "source": [
        "\n",
        "<img src=\"https://raw.githubusercontent.com/SamuelBenedix/summer_school_2018/master/03_sklearn/notebooks/figures/supervised_workflow.svg\" width=\"50%\">"
      ]
    },
    {
      "cell_type": "code",
      "metadata": {
        "id": "DD1thXPCYGxN"
      },
      "source": [
        "from sklearn.model_selection import train_test_split\n",
        "\n",
        "X_train, X_test, y_train, y_test = train_test_split(X, y,\n",
        "                                                    test_size=0.25,\n",
        "                                                    random_state=1,\n",
        "                                                    stratify=y)"
      ],
      "execution_count": 8,
      "outputs": []
    },
    {
      "cell_type": "code",
      "metadata": {
        "colab": {
          "base_uri": "https://localhost:8080/"
        },
        "id": "T3Ef8E8EsGwj",
        "outputId": "fb534c29-afd1-4848-974e-16e9c8ba9eec"
      },
      "source": [
        "X_train[1]"
      ],
      "execution_count": 9,
      "outputs": [
        {
          "output_type": "execute_result",
          "data": {
            "text/plain": [
              "array([1.3105127 , 0.07122512])"
            ]
          },
          "metadata": {},
          "execution_count": 9
        }
      ]
    },
    {
      "cell_type": "code",
      "metadata": {
        "id": "rtnRfUgHYJuA"
      },
      "source": [
        "from sklearn.linear_model import LogisticRegression"
      ],
      "execution_count": 10,
      "outputs": []
    },
    {
      "cell_type": "code",
      "metadata": {
        "id": "fUbPzv29YLnk"
      },
      "source": [
        "classifier = LogisticRegression()"
      ],
      "execution_count": 11,
      "outputs": []
    },
    {
      "cell_type": "code",
      "metadata": {
        "colab": {
          "base_uri": "https://localhost:8080/"
        },
        "id": "oh-aEFCsYPBg",
        "outputId": "1ece7182-f80f-4b96-9c7c-785aa0f18dc9"
      },
      "source": [
        "X_train.shape"
      ],
      "execution_count": 12,
      "outputs": [
        {
          "output_type": "execute_result",
          "data": {
            "text/plain": [
              "(75, 2)"
            ]
          },
          "metadata": {},
          "execution_count": 12
        }
      ]
    },
    {
      "cell_type": "code",
      "metadata": {
        "colab": {
          "base_uri": "https://localhost:8080/"
        },
        "id": "nVEUln13YR0X",
        "outputId": "995e304d-3f75-4e36-e3df-a809a0c5fbb1"
      },
      "source": [
        "y_train.shape"
      ],
      "execution_count": 13,
      "outputs": [
        {
          "output_type": "execute_result",
          "data": {
            "text/plain": [
              "(75,)"
            ]
          },
          "metadata": {},
          "execution_count": 13
        }
      ]
    },
    {
      "cell_type": "code",
      "metadata": {
        "colab": {
          "base_uri": "https://localhost:8080/"
        },
        "id": "wGwQbstEYUGO",
        "outputId": "0b3b1a29-6c92-4481-8b5e-85de6e0d8584"
      },
      "source": [
        "classifier.fit(X_train, y_train)"
      ],
      "execution_count": 14,
      "outputs": [
        {
          "output_type": "execute_result",
          "data": {
            "text/plain": [
              "LogisticRegression(C=1.0, class_weight=None, dual=False, fit_intercept=True,\n",
              "                   intercept_scaling=1, l1_ratio=None, max_iter=100,\n",
              "                   multi_class='auto', n_jobs=None, penalty='l2',\n",
              "                   random_state=None, solver='lbfgs', tol=0.0001, verbose=0,\n",
              "                   warm_start=False)"
            ]
          },
          "metadata": {},
          "execution_count": 14
        }
      ]
    },
    {
      "cell_type": "code",
      "metadata": {
        "id": "31jX3LMVYZaz"
      },
      "source": [
        "prediction = classifier.predict(X_test)"
      ],
      "execution_count": 15,
      "outputs": []
    },
    {
      "cell_type": "code",
      "metadata": {
        "colab": {
          "base_uri": "https://localhost:8080/"
        },
        "id": "o-YUHFMsYdrx",
        "outputId": "a92d68e8-112c-4878-d9a7-a0e58183720d"
      },
      "source": [
        "print(prediction)\n",
        "print(y_test)"
      ],
      "execution_count": 16,
      "outputs": [
        {
          "output_type": "stream",
          "name": "stdout",
          "text": [
            "[1 0 1 0 1 0 1 1 1 0 0 1 1 0 1 0 0 0 1 0 1 1 0 0 1]\n",
            "[1 0 1 1 1 0 1 1 1 0 0 1 1 0 1 0 0 0 0 0 1 1 0 0 1]\n"
          ]
        }
      ]
    },
    {
      "cell_type": "code",
      "metadata": {
        "colab": {
          "base_uri": "https://localhost:8080/"
        },
        "id": "o605AOLAYiUt",
        "outputId": "94e9f95c-b9f1-4a95-d1fa-4f80625fe70e"
      },
      "source": [
        "np.mean(prediction == y_test)"
      ],
      "execution_count": 17,
      "outputs": [
        {
          "output_type": "execute_result",
          "data": {
            "text/plain": [
              "0.92"
            ]
          },
          "metadata": {},
          "execution_count": 17
        }
      ]
    },
    {
      "cell_type": "code",
      "metadata": {
        "colab": {
          "base_uri": "https://localhost:8080/"
        },
        "id": "g3J2UHMeYkG8",
        "outputId": "3232c51d-4b72-4528-f6df-ede999a9ab53"
      },
      "source": [
        "classifier.score(X_test, y_test)"
      ],
      "execution_count": 18,
      "outputs": [
        {
          "output_type": "execute_result",
          "data": {
            "text/plain": [
              "0.92"
            ]
          },
          "metadata": {},
          "execution_count": 18
        }
      ]
    },
    {
      "cell_type": "code",
      "metadata": {
        "colab": {
          "base_uri": "https://localhost:8080/"
        },
        "id": "9-3djYwRYm-B",
        "outputId": "b638a411-1fb3-42b7-d6d7-17f54f2bc94f"
      },
      "source": [
        "classifier.score(X_train, y_train)"
      ],
      "execution_count": 19,
      "outputs": [
        {
          "output_type": "execute_result",
          "data": {
            "text/plain": [
              "0.9466666666666667"
            ]
          },
          "metadata": {},
          "execution_count": 19
        }
      ]
    },
    {
      "cell_type": "code",
      "metadata": {
        "id": "e5g7LdejYrwc"
      },
      "source": [
        "import numpy as np\n",
        "import matplotlib.pyplot as plt\n",
        "\n",
        "def plot_2d_separator(classifier, X, fill=False, ax=None, eps=None):\n",
        "    if eps is None:\n",
        "        eps = X.std() / 2.\n",
        "    x_min, x_max = X[:, 0].min() - eps, X[:, 0].max() + eps\n",
        "    y_min, y_max = X[:, 1].min() - eps, X[:, 1].max() + eps\n",
        "    xx = np.linspace(x_min, x_max, 100)\n",
        "    yy = np.linspace(y_min, y_max, 100)\n",
        "\n",
        "    X1, X2 = np.meshgrid(xx, yy)\n",
        "    X_grid = np.c_[X1.ravel(), X2.ravel()]\n",
        "    try:\n",
        "        decision_values = classifier.decision_function(X_grid)\n",
        "        levels = [0]\n",
        "        fill_levels = [decision_values.min(), 0, decision_values.max()]\n",
        "    except AttributeError:\n",
        "        # no decision_function\n",
        "        decision_values = classifier.predict_proba(X_grid)[:, 1]\n",
        "        levels = [.5]\n",
        "        fill_levels = [0, .5, 1]\n",
        "\n",
        "    if ax is None:\n",
        "        ax = plt.gca()\n",
        "    if fill:\n",
        "        ax.contourf(X1, X2, decision_values.reshape(X1.shape),\n",
        "                    levels=fill_levels, colors=['tab:blue', 'tab:orange'],\n",
        "                    alpha=0.5)\n",
        "    else:\n",
        "        ax.contour(X1, X2, decision_values.reshape(X1.shape), levels=levels,\n",
        "                   colors=\"black\")\n",
        "    ax.set_xlim(x_min, x_max)\n",
        "    ax.set_ylim(y_min, y_max)\n",
        "    ax.set_xticks(())\n",
        "    ax.set_yticks(())"
      ],
      "execution_count": 20,
      "outputs": []
    },
    {
      "cell_type": "code",
      "metadata": {
        "colab": {
          "base_uri": "https://localhost:8080/",
          "height": 262
        },
        "id": "TP7vgnG5YpJF",
        "outputId": "ef3a6eaa-a07d-4105-a76f-ee05a88906d0"
      },
      "source": [
        "plt.scatter(X[y == 0, 0], X[y == 0, 1], s=50, label='0')\n",
        "plt.scatter(X[y == 1, 0], X[y == 1, 1], s=50, label='1', marker='x')\n",
        "\n",
        "plt.xlabel(\"Fitur Pertama\")\n",
        "plt.ylabel(\"Fitur Kedua\")\n",
        "plot_2d_separator(classifier, X)\n",
        "plt.legend(loc='upper right');"
      ],
      "execution_count": 21,
      "outputs": [
        {
          "output_type": "display_data",
          "data": {
            "image/png": "[encoded data removed]",
            "text/plain": [
              "<Figure size 432x288 with 1 Axes>"
            ]
          },
          "metadata": {}
        }
      ]
    },
    {
      "cell_type": "code",
      "metadata": {
        "colab": {
          "base_uri": "https://localhost:8080/"
        },
        "id": "K7hMelDXZmM7",
        "outputId": "8be6b2d7-8f78-4247-ecc5-496c3515e1cd"
      },
      "source": [
        "print(classifier.coef_)\n",
        "print(classifier.intercept_)"
      ],
      "execution_count": 22,
      "outputs": [
        {
          "output_type": "stream",
          "name": "stdout",
          "text": [
            "[[ 0.25140039 -2.41961226]]\n",
            "[6.1673817]\n"
          ]
        }
      ]
    },
    {
      "cell_type": "markdown",
      "metadata": {
        "id": "ZABy7ZnXZv4i"
      },
      "source": [
        "## **Klasifikasi Lainnya: K Nearest Neighbors**\n",
        "\n",
        "Algoritma k-Nearest Neighbor adalah algoritma supervised \n",
        "learning dimana hasil dari instance yang baru diklasifikasikan berdasarkan mayoritas dari nilai terdekat"
      ]
    },
    {
      "cell_type": "code",
      "metadata": {
        "id": "9sCbydVdZq-R"
      },
      "source": [
        "from sklearn.neighbors import KNeighborsClassifier"
      ],
      "execution_count": 23,
      "outputs": []
    },
    {
      "cell_type": "code",
      "metadata": {
        "id": "GNe4B7kXZs0j"
      },
      "source": [
        "knn = KNeighborsClassifier(n_neighbors=1)"
      ],
      "execution_count": 24,
      "outputs": []
    },
    {
      "cell_type": "code",
      "metadata": {
        "colab": {
          "base_uri": "https://localhost:8080/"
        },
        "id": "dX262xvEZvQc",
        "outputId": "818ca3dc-7d80-44ab-e36e-6dbcf7707a05"
      },
      "source": [
        "knn.fit(X_train, y_train)"
      ],
      "execution_count": 25,
      "outputs": [
        {
          "output_type": "execute_result",
          "data": {
            "text/plain": [
              "KNeighborsClassifier(algorithm='auto', leaf_size=30, metric='minkowski',\n",
              "                     metric_params=None, n_jobs=None, n_neighbors=1, p=2,\n",
              "                     weights='uniform')"
            ]
          },
          "metadata": {},
          "execution_count": 25
        }
      ]
    },
    {
      "cell_type": "code",
      "metadata": {
        "colab": {
          "base_uri": "https://localhost:8080/",
          "height": 262
        },
        "id": "Cxlzm8NMaDDt",
        "outputId": "a6b2e9d2-4d41-41a7-f651-4a74ed6456a4"
      },
      "source": [
        "plt.scatter(X[y == 0, 0], X[y == 0, 1], s=40, label='0')\n",
        "plt.scatter(X[y == 1, 0], X[y == 1, 1], s=40, label='1', marker='s')\n",
        "\n",
        "plt.xlabel(\"Fitur Pertama\")\n",
        "plt.ylabel(\"Fitur Kedua\")\n",
        "plot_2d_separator(knn, X)\n",
        "plt.legend(loc='upper right');"
      ],
      "execution_count": 26,
      "outputs": [
        {
          "output_type": "display_data",
          "data": {
            "image/png": "[encoded data removed]",
            "text/plain": [
              "<Figure size 432x288 with 1 Axes>"
            ]
          },
          "metadata": {}
        }
      ]
    },
    {
      "cell_type": "code",
      "metadata": {
        "colab": {
          "base_uri": "https://localhost:8080/"
        },
        "id": "vWOu7c3raGd3",
        "outputId": "a42ecbe5-18dd-4583-f2af-652a39c73da3"
      },
      "source": [
        "knn.score(X_test, y_test)"
      ],
      "execution_count": 27,
      "outputs": [
        {
          "output_type": "execute_result",
          "data": {
            "text/plain": [
              "1.0"
            ]
          },
          "metadata": {},
          "execution_count": 27
        }
      ]
    },
    {
      "cell_type": "code",
      "metadata": {
        "id": "BoLn6ssEx6C4"
      },
      "source": [
        "knnPrediction = knn.predict(X_test)"
      ],
      "execution_count": 28,
      "outputs": []
    },
    {
      "cell_type": "code",
      "metadata": {
        "colab": {
          "base_uri": "https://localhost:8080/"
        },
        "id": "baN1UaQoyKCw",
        "outputId": "95b5ea52-be5a-4fa2-9e65-fa9fa15bfc66"
      },
      "source": [
        "print(knnPrediction)\n",
        "print(y_test)"
      ],
      "execution_count": 29,
      "outputs": [
        {
          "output_type": "stream",
          "name": "stdout",
          "text": [
            "[1 0 1 1 1 0 1 1 1 0 0 1 1 0 1 0 0 0 0 0 1 1 0 0 1]\n",
            "[1 0 1 1 1 0 1 1 1 0 0 1 1 0 1 0 0 0 0 0 1 1 0 0 1]\n"
          ]
        }
      ]
    }
  ]
}